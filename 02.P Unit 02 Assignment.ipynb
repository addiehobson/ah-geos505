{
 "cells": [
  {
   "cell_type": "markdown",
   "id": "0b9d0f9a",
   "metadata": {},
   "source": [
    "# GEOS 505: Problem Set 2\n",
    "\n",
    "This problem set assesses some foundational abilities to create graphics that are appropriate to presentations and publications (broadly defined to be inclusive of technical reports, theses, etc.), using a combination of `NumPy` and `Matplotlib`.\n",
    "\n",
    "__Instructions__: Complete the two problems below, which consist of creating publication-ready figures. Where you are asked to provide descriptive text and answer questions, please do so via well formatted Markdown cells below the problem. You are strongly encouraged to use both `Numpy` and `Matplotlib` documentation in developing your plots. Use of LLMs is accepted, but verify LLM-supplied code by consulting the documentation.\n",
    "\n",
    "__Due Date and Time__: October 10, 2025 at 5:00 PM MT\n",
    "\n",
    "__Turn In Via__: Commit and push your complete notebook to your personal GitHub repository for the class, and submit the URL for notebook via Canvas. \n",
    "\n",
    "## Setup\n",
    "\n",
    "As part of your thesis, you are examining the potential influence of forest fires in the Upper Boise River Basin (UBRB) on hydrologic processes including snow accumulation/melt, soil moisture, and streamflow. You decide to start out by examining streamflow and want to get a sense of how much streamflow varies across two years, separated by 30 years. As such, you decide to examine streamflow from Water Years 1987 and 2017 (although you know the latter is a large snow year). __Instructions:__ Run the code cell below, altering only which gage you will use (choose 0-3, corresponding to the commented descriptions of the gages)."
   ]
  },
  {
   "cell_type": "code",
   "execution_count": 3,
   "id": "27442581",
   "metadata": {},
   "outputs": [],
   "source": [
    "import pandas as pd\n",
    "import numpy as np\n",
    "import matplotlib.pyplot as plt\n",
    "from dataretrieval import nwis\n",
    "\n",
    "## Set parameters needed to retrieve data\n",
    "startDate1 = '2016-10-01' # Water Year 2017\n",
    "endDate1 = '2017-09-30'\n",
    "startDate2 = '1986-10-01' # Water Year 1987\n",
    "endDate2 = '1987-09-30'\n",
    "parameterCode = '00060'\n",
    "\n",
    "## Choose one of the following:\n",
    "gages = ['13200000', # Mores Creek Above Robie Creek\n",
    "         '13185000', # Boise River Near Twin Springs\n",
    "         '13186000', # SF Boise River near Featherville \n",
    "         '13192200'  # SF Boise Near Arrowrock Dam\n",
    "         ]\n",
    "\n",
    "my_gage = gages[0] # Choose 0-3"
   ]
  },
  {
   "cell_type": "markdown",
   "id": "fe330851",
   "metadata": {},
   "source": [
    "## Getting the Data\n",
    "\n",
    "The function below takes as input the USGS gage ID (as a string, should be 8 digits), the start date, and the end date. It uses this information to query the USGS National Water Information System (NWIS) API to fetch the data that corresponds to the data request. It passes the fetched data back as a simplified `Pandas` dataframe containing only the date (as a `datetime` object) and the streamflow (in ft${}^3$/s). __Instructions:__ Run the cell below without modification. "
   ]
  },
  {
   "cell_type": "code",
   "execution_count": 4,
   "id": "0fd3d295",
   "metadata": {},
   "outputs": [],
   "source": [
    "def GetStreamFlowData(gage, startDate, endDate, parameterCode):\n",
    "    \n",
    "    dailyStreamflow = nwis.get_dv(sites=gage, parameterCd=parameterCode, start=startDate, end=endDate)\n",
    "    print('Retrieved ' + str(len(dailyStreamflow[0])) + ' data values for gage ' + gage)\n",
    "    dt_output = dailyStreamflow[0].index\n",
    "    q_output = dailyStreamflow[0]['00060_Mean'].values\n",
    "    \n",
    "    output_data = {\n",
    "        'date': dt_output.strftime('%Y-%m-%d'),\n",
    "        'q_cfs': q_output\n",
    "    }\n",
    "    \n",
    "    df_out = pd.DataFrame(output_data)\n",
    "    \n",
    "    return df_out\n",
    "    "
   ]
  },
  {
   "cell_type": "markdown",
   "id": "d1b02d99",
   "metadata": {},
   "source": [
    "## The Data and Analysis\n",
    "\n",
    "The code below calls the `GetStreamFlowData(...)` function from above with the appropriate gage ID, start and end dates, and parameter code (`00060` for discharge/streamflow) and collects the data as a `Pandas` dataframe. __Instructions:__ Verify that the correct parameters are being supplied and run the code below."
   ]
  },
  {
   "cell_type": "code",
   "execution_count": 5,
   "id": "244aa78b",
   "metadata": {},
   "outputs": [
    {
     "name": "stdout",
     "output_type": "stream",
     "text": [
      "Retrieved 365 data values for gage 13200000\n",
      "Retrieved 365 data values for gage 13200000\n"
     ]
    }
   ],
   "source": [
    "wy1_streamflow = GetStreamFlowData(my_gage, startDate1, endDate1, parameterCode)\n",
    "wy2_streamflow = GetStreamFlowData(my_gage, startDate2, endDate2, parameterCode)"
   ]
  },
  {
   "cell_type": "code",
   "execution_count": 6,
   "id": "5aa42f81",
   "metadata": {},
   "outputs": [
    {
     "name": "stdout",
     "output_type": "stream",
     "text": [
      "           date  q_cfs\n",
      "0    2016-10-01   26.1\n",
      "1    2016-10-02   26.4\n",
      "2    2016-10-03   27.4\n",
      "3    2016-10-04   28.6\n",
      "4    2016-10-05   30.4\n",
      "..          ...    ...\n",
      "360  2017-09-26   56.0\n",
      "361  2017-09-27   54.0\n",
      "362  2017-09-28   52.5\n",
      "363  2017-09-29   51.2\n",
      "364  2017-09-30   51.6\n",
      "\n",
      "[365 rows x 2 columns]\n",
      "           date  q_cfs\n",
      "0    1986-10-01  146.0\n",
      "1    1986-10-02  135.0\n",
      "2    1986-10-03  122.0\n",
      "3    1986-10-04  113.0\n",
      "4    1986-10-05  110.0\n",
      "..          ...    ...\n",
      "360  1987-09-26   22.0\n",
      "361  1987-09-27   22.0\n",
      "362  1987-09-28   23.0\n",
      "363  1987-09-29   24.0\n",
      "364  1987-09-30   24.0\n",
      "\n",
      "[365 rows x 2 columns]\n"
     ]
    }
   ],
   "source": [
    "print(wy1_streamflow)\n",
    "print(wy2_streamflow)"
   ]
  },
  {
   "cell_type": "markdown",
   "id": "20ebb7d1",
   "metadata": {},
   "source": [
    "## Instructions\n",
    "\n",
    "Although you are towards the beginning of your research, you do need to demonstrate research progress. Your advisor has encouraged you to prepare a PowerPoint presentation the Pacific Northwest Water Summit in early November, and prepare some figures appropriate for a thesis proposal in the spring. As such, you need to efficiently create identical figures that are appropriate to both presentation and print formats. A manageable task that you can do by November is to plot both the empirical frequency distribution function (the histogram in frequency space) of the two years of streamflow data, as well as the associated cumulative density function (CDF). Your advisor agrees this is reasonable, but also wants you to highlight the mean of each year on the frequency distribution and the median flow, 5% non-exceedance, and 95% non-exceedance flows on the CDF. With this established you need a plan. __Your completed notebook should show 4 plots.__\n",
    "\n",
    "#### Figure 1: Probability Density Plot\n",
    "\n",
    "Compute the histograms of the daily streamflow data for each water year. We want to prepare a plot in which the frequency distributions share the same x-axis, so you'll need to do some sleuthing to figure out how you should use `np.histogram()`. You do some brainstorming and decide the plot should:\n",
    "\n",
    "- Have all axes labelled, including units in SI format\n",
    "- Have font sets and sizes that are appropriate to either a PowerPoint presentation or a print document\n",
    "- Indicate the mean of each water year with a vertical line\n",
    "- Use colors that are color-blind friendly\n",
    "- Use gridlines appropriately\n",
    "- Have a meaningful legend\n",
    "- Save in a format like PNG\n",
    "\n",
    "#### Figure 2: Cumulative Density Function Plot\n",
    "\n",
    "With the histograms completed from above, you should now be able to calculate the CDF in a straightforward manner (you remember that the CDF is just the integral of the PDF from Probability and Statistics). So you come up with the requirements of the CDF plot, which are only slightly different than the PDF/histogram plot. You decide the plot should: \n",
    "\n",
    "- Have all axes labelled, including units in SI format\n",
    "- Have font sets and sizes that are appropriate to either a PowerPoint presentation or a print document\n",
    "- Indicate the median, 5%, and 95% non-exceedance values using both horizontal and vertical lines. Maybe do something fancy like intersect directly at the CDF. \n",
    "- Use colors that are color-blind friendly\n",
    "- Use gridlines appropriately\n",
    "- Have a meaningful legend\n",
    "- Save in a format like PNG\n",
    "\n",
    "At the very end of your 30-minute weekly advising check-in, your advisor closed their eyes, rubbed their temples intently, and spouted off the following `NumPy` and `Matplotlib` commands that should be helpful. "
   ]
  },
  {
   "cell_type": "markdown",
   "id": "a8471751",
   "metadata": {},
   "source": [
    "np.cumsum()  Or x.cumsum(), where x is a vector of data\n",
    "\n",
    "np.percentile() \n",
    "\n",
    "np.histogram() \n",
    "\n",
    " Note: When using np.histogram(), make sure to use the same bins for both data records.\n",
    "\n",
    " Consider using min(), max(), and linspace() to create custom bins.\n",
    "\n",
    "plt.hlines()\n",
    "\n",
    "plt.vlines()"
   ]
  },
  {
   "cell_type": "code",
   "execution_count": null,
   "id": "4f9d8168",
   "metadata": {},
   "outputs": [
    {
     "name": "stdout",
     "output_type": "stream",
     "text": [
      "DatetimeIndex(['1986-10-01', '1986-10-02', '1986-10-03', '1986-10-04',\n",
      "               '1986-10-05', '1986-10-06', '1986-10-07', '1986-10-08',\n",
      "               '1986-10-09', '1986-10-10',\n",
      "               ...\n",
      "               '1987-09-21', '1987-09-22', '1987-09-23', '1987-09-24',\n",
      "               '1987-09-25', '1987-09-26', '1987-09-27', '1987-09-28',\n",
      "               '1987-09-29', '1987-09-30'],\n",
      "              dtype='datetime64[ns]', length=365, freq='D') DatetimeIndex(['2016-10-01', '2016-10-02', '2016-10-03', '2016-10-04',\n",
      "               '2016-10-05', '2016-10-06', '2016-10-07', '2016-10-08',\n",
      "               '2016-10-09', '2016-10-10',\n",
      "               ...\n",
      "               '2017-09-21', '2017-09-22', '2017-09-23', '2017-09-24',\n",
      "               '2017-09-25', '2017-09-26', '2017-09-27', '2017-09-28',\n",
      "               '2017-09-29', '2017-09-30'],\n",
      "              dtype='datetime64[ns]', length=365, freq='D')\n"
     ]
    },
    {
     "data": {
      "image/png": "[encoded data removed]",
      "text/plain": [
       "<Figure size 640x480 with 1 Axes>"
      ]
     },
     "metadata": {},
     "output_type": "display_data"
    }
   ],
   "source": [
    "sf_2017 = wy1_streamflow['q_cfs']\n",
    "sf_1987 = wy2_streamflow['q_cfs']\n",
    "#custom_bins = [np.arange(sf_2017.min(),sf_2017.max()+1000,1000)]\n",
    "\n",
    "def SI_ft3_m3(data):\n",
    "    m_cubed = data['q_cfs']/35.3147\n",
    "    return m_cubed\n",
    "\n",
    "\n",
    "def PDF(data1, data2, year1, year2):\n",
    "    #creates a df with the dates from our data water years in days\n",
    "    startdate1 = f'{year1}-10-01'\n",
    "    yearend1 = year1+1\n",
    "    enddate1 = f'{yearend1}-09-30'\n",
    "    startdate2 = f'{year2}-10-01'\n",
    "    yearend2 = year2+1\n",
    "    enddate2 = f'{yearend2}-09-30'\n",
    "    tsdates1 = pd.date_range(start=startdate1, end=enddate1)\n",
    "    tsdates2 = pd.date_range(start=startdate2, end=enddate2)\n",
    "    days = \n",
    "\n",
    "    \n",
    "    #plt.plot(SI_ft3_m3(data1))\n",
    "    #plt.plot(SI_ft3_m3(data2))\n",
    "    #plt.grid(True)\n",
    "\n",
    "\n",
    "\n",
    "\n",
    "    hist1, bin_edges1 = np.histogram(SI_ft3_m3(data1))\n",
    "    hist2, bin_edges2 = np.histogram(SI_ft3_m3(data2))\n",
    "    streamflow1 = data1['q_cfs']\n",
    "    streamflow2 = data2['q_cfs']\n",
    "\n",
    "\n",
    "    plt.plot(tsdates1,streamflow1)\n",
    "    plt.plot(tsdates2,streamflow2)\n",
    "    plt.grid(True)\n",
    "    print(tsdates1, tsdates2)\n",
    "#print(wy1_streamflow)\n",
    "PDF(wy1_streamflow, wy2_streamflow, 1986, 2016)"
   ]
  },
  {
   "cell_type": "markdown",
   "id": "5dc39926",
   "metadata": {},
   "source": [
    "## Reflection Questions:\n",
    "\n",
    "1. Your advisor is a scatter-brain and flaky. They tell you to try a different gage, and different years after you show them your beautiful plots. How easy would it be to accomodate their ephemeral requests and what did you do to make it relatively painless?\n",
    "2. The function `GetStreamFlowData` above looks more broadly useful, in that you can query different gages, and request multiple years of data. In class, we talked a bit about \"defensive coding.\" Looking at the function above, identify 3 different errors a user (you) might make in calling that function and how you might use some defensive programming strategies to protect against those errors.\n"
   ]
  },
  {
   "cell_type": "markdown",
   "id": "dc077be9",
   "metadata": {},
   "source": []
  }
 ],
 "metadata": {
  "kernelspec": {
   "display_name": "geos505",
   "language": "python",
   "name": "python3"
  },
  "language_info": {
   "codemirror_mode": {
    "name": "ipython",
    "version": 3
   },
   "file_extension": ".py",
   "mimetype": "text/x-python",
   "name": "python",
   "nbconvert_exporter": "python",
   "pygments_lexer": "ipython3",
   "version": "3.12.11"
  }
 },
 "nbformat": 4,
 "nbformat_minor": 5
}
